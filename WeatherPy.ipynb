{
 "cells": [
  {
   "cell_type": "markdown",
   "metadata": {},
   "source": [
    "# WeatherPy\n",
    "----\n",
    "\n",
    "#### Note\n",
    "* Instructions have been included for each segment. You do not have to follow them exactly, but they are included to help you think through the steps."
   ]
  },
  {
   "cell_type": "code",
   "execution_count": 1,
   "metadata": {
    "scrolled": true
   },
   "outputs": [],
   "source": [
    "# Dependencies and Setup\n",
    "import matplotlib.pyplot as plt\n",
    "import pandas as pd\n",
    "import numpy as np\n",
    "import requests\n",
    "import time\n",
    "from scipy.stats import linregress\n",
    "\n",
    "# Import API key\n",
    "from api_keys import weather_api_key\n",
    "\n",
    "# Incorporated citipy to determine city based on latitude and longitude\n",
    "from citipy import citipy\n",
    "\n",
    "# Output File (CSV)\n",
    "output_data_file = \"output_data/cities.csv\"\n",
    "\n",
    "# Range of latitudes and longitudes\n",
    "lat_range = (-90, 90)\n",
    "lng_range = (-180, 180)"
   ]
  },
  {
   "cell_type": "markdown",
   "metadata": {},
   "source": [
    "## Generate Cities List"
   ]
  },
  {
   "cell_type": "code",
   "execution_count": 2,
   "metadata": {},
   "outputs": [
    {
     "data": {
      "text/plain": [
       "606"
      ]
     },
     "execution_count": 2,
     "metadata": {},
     "output_type": "execute_result"
    }
   ],
   "source": [
    "# List for holding lat_lngs and cities\n",
    "n=700\n",
    "lat_lngs = []\n",
    "cities = []\n",
    "\n",
    "# Create a set of random lat and lng combinations\n",
    "lats = np.random.uniform(lat_range[0], lat_range[1], size=1500)\n",
    "lngs = np.random.uniform(lng_range[0], lng_range[1], size=1500)\n",
    "lat_lngs = zip(lats, lngs)\n",
    "\n",
    "# Identify nearest city for each lat, lng combination\n",
    "for lat_lng in lat_lngs:\n",
    "    city = citipy.nearest_city(lat_lng[0], lat_lng[1]).city_name\n",
    "    \n",
    "    # If the city is unique, then add it to a our cities list\n",
    "    if city not in cities:\n",
    "        cities.append(city)\n",
    "\n",
    "# Print the city count to confirm sufficient count\n",
    "len(cities)"
   ]
  },
  {
   "cell_type": "markdown",
   "metadata": {},
   "source": [
    "### Perform API Calls\n",
    "* Perform a weather check on each city using a series of successive API calls.\n",
    "* Include a print log of each city as it'sbeing processed (with the city number and city name).\n"
   ]
  },
  {
   "cell_type": "code",
   "execution_count": 3,
   "metadata": {
    "scrolled": true
   },
   "outputs": [
    {
     "ename": "NameError",
     "evalue": "name 'url' is not defined",
     "output_type": "error",
     "traceback": [
      "\u001b[0;31m---------------------------------------------------------------------------\u001b[0m",
      "\u001b[0;31mNameError\u001b[0m                                 Traceback (most recent call last)",
      "\u001b[0;32m<ipython-input-3-29a5795bedd5>\u001b[0m in \u001b[0;36m<module>\u001b[0;34m\u001b[0m\n\u001b[0;32m----> 1\u001b[0;31m \u001b[0mprint\u001b[0m \u001b[0;34m(\u001b[0m\u001b[0murl\u001b[0m\u001b[0;34m)\u001b[0m\u001b[0;34m\u001b[0m\u001b[0;34m\u001b[0m\u001b[0m\n\u001b[0m",
      "\u001b[0;31mNameError\u001b[0m: name 'url' is not defined"
     ]
    }
   ],
   "source": [
    "print (url)\n"
   ]
  },
  {
   "cell_type": "code",
   "execution_count": null,
   "metadata": {},
   "outputs": [],
   "source": []
  },
  {
   "cell_type": "code",
   "execution_count": null,
   "metadata": {},
   "outputs": [
    {
     "name": "stdout",
     "output_type": "stream",
     "text": [
      "Beginning Data Retrieval     \n",
      "-----------------------------\n",
      "https://api.openweathermap.org/data/2.5/weather?units=Imperial&appid=5c6369e1805755dc7b979a0588c3fb73&q=bredasdorp\n",
      "City number {number} of {len(cities)} complete. | Added {city}\n",
      "https://api.openweathermap.org/data/2.5/weather?units=Imperial&appid=5c6369e1805755dc7b979a0588c3fb73&q=busselton\n",
      "City number {number} of {len(cities)} complete. | Added {city}\n",
      "https://api.openweathermap.org/data/2.5/weather?units=Imperial&appid=5c6369e1805755dc7b979a0588c3fb73&q=atuona\n",
      "City number {number} of {len(cities)} complete. | Added {city}\n",
      "https://api.openweathermap.org/data/2.5/weather?units=Imperial&appid=5c6369e1805755dc7b979a0588c3fb73&q=zaranj\n",
      "City number {number} of {len(cities)} complete. | Added {city}\n",
      "https://api.openweathermap.org/data/2.5/weather?units=Imperial&appid=5c6369e1805755dc7b979a0588c3fb73&q=hilo\n",
      "City number {number} of {len(cities)} complete. | Added {city}\n",
      "https://api.openweathermap.org/data/2.5/weather?units=Imperial&appid=5c6369e1805755dc7b979a0588c3fb73&q=souillac\n",
      "City number {number} of {len(cities)} complete. | Added {city}\n",
      "https://api.openweathermap.org/data/2.5/weather?units=Imperial&appid=5c6369e1805755dc7b979a0588c3fb73&q=port alfred\n",
      "City number {number} of {len(cities)} complete. | Added {city}\n",
      "https://api.openweathermap.org/data/2.5/weather?units=Imperial&appid=5c6369e1805755dc7b979a0588c3fb73&q=ngama\n",
      "City number {number} of {len(cities)} complete. | Added {city}\n",
      "https://api.openweathermap.org/data/2.5/weather?units=Imperial&appid=5c6369e1805755dc7b979a0588c3fb73&q=kodiak\n",
      "City number {number} of {len(cities)} complete. | Added {city}\n",
      "https://api.openweathermap.org/data/2.5/weather?units=Imperial&appid=5c6369e1805755dc7b979a0588c3fb73&q=illoqqortoormiut\n",
      "'clouds'\n",
      "https://api.openweathermap.org/data/2.5/weather?units=Imperial&appid=5c6369e1805755dc7b979a0588c3fb73&q=rocha\n",
      "City number {number} of {len(cities)} complete. | Added {city}\n",
      "https://api.openweathermap.org/data/2.5/weather?units=Imperial&appid=5c6369e1805755dc7b979a0588c3fb73&q=mataura\n",
      "City number {number} of {len(cities)} complete. | Added {city}\n",
      "https://api.openweathermap.org/data/2.5/weather?units=Imperial&appid=5c6369e1805755dc7b979a0588c3fb73&q=bluff\n",
      "City number {number} of {len(cities)} complete. | Added {city}\n",
      "https://api.openweathermap.org/data/2.5/weather?units=Imperial&appid=5c6369e1805755dc7b979a0588c3fb73&q=qaqortoq\n",
      "City number {number} of {len(cities)} complete. | Added {city}\n",
      "https://api.openweathermap.org/data/2.5/weather?units=Imperial&appid=5c6369e1805755dc7b979a0588c3fb73&q=punta arenas\n",
      "City number {number} of {len(cities)} complete. | Added {city}\n",
      "https://api.openweathermap.org/data/2.5/weather?units=Imperial&appid=5c6369e1805755dc7b979a0588c3fb73&q=namibe\n",
      "City number {number} of {len(cities)} complete. | Added {city}\n",
      "https://api.openweathermap.org/data/2.5/weather?units=Imperial&appid=5c6369e1805755dc7b979a0588c3fb73&q=ribeira grande\n",
      "City number {number} of {len(cities)} complete. | Added {city}\n",
      "https://api.openweathermap.org/data/2.5/weather?units=Imperial&appid=5c6369e1805755dc7b979a0588c3fb73&q=ushuaia\n",
      "City number {number} of {len(cities)} complete. | Added {city}\n",
      "https://api.openweathermap.org/data/2.5/weather?units=Imperial&appid=5c6369e1805755dc7b979a0588c3fb73&q=balili\n",
      "City number {number} of {len(cities)} complete. | Added {city}\n",
      "https://api.openweathermap.org/data/2.5/weather?units=Imperial&appid=5c6369e1805755dc7b979a0588c3fb73&q=puerto ayora\n",
      "City number {number} of {len(cities)} complete. | Added {city}\n",
      "https://api.openweathermap.org/data/2.5/weather?units=Imperial&appid=5c6369e1805755dc7b979a0588c3fb73&q=hofn\n",
      "City number {number} of {len(cities)} complete. | Added {city}\n",
      "https://api.openweathermap.org/data/2.5/weather?units=Imperial&appid=5c6369e1805755dc7b979a0588c3fb73&q=tasiilaq\n",
      "City number {number} of {len(cities)} complete. | Added {city}\n",
      "https://api.openweathermap.org/data/2.5/weather?units=Imperial&appid=5c6369e1805755dc7b979a0588c3fb73&q=lagoa\n",
      "City number {number} of {len(cities)} complete. | Added {city}\n",
      "https://api.openweathermap.org/data/2.5/weather?units=Imperial&appid=5c6369e1805755dc7b979a0588c3fb73&q=vila velha\n",
      "City number {number} of {len(cities)} complete. | Added {city}\n",
      "https://api.openweathermap.org/data/2.5/weather?units=Imperial&appid=5c6369e1805755dc7b979a0588c3fb73&q=port elizabeth\n",
      "City number {number} of {len(cities)} complete. | Added {city}\n",
      "https://api.openweathermap.org/data/2.5/weather?units=Imperial&appid=5c6369e1805755dc7b979a0588c3fb73&q=chokurdakh\n",
      "City number {number} of {len(cities)} complete. | Added {city}\n",
      "https://api.openweathermap.org/data/2.5/weather?units=Imperial&appid=5c6369e1805755dc7b979a0588c3fb73&q=isangel\n",
      "City number {number} of {len(cities)} complete. | Added {city}\n",
      "https://api.openweathermap.org/data/2.5/weather?units=Imperial&appid=5c6369e1805755dc7b979a0588c3fb73&q=danville\n",
      "City number {number} of {len(cities)} complete. | Added {city}\n",
      "https://api.openweathermap.org/data/2.5/weather?units=Imperial&appid=5c6369e1805755dc7b979a0588c3fb73&q=zhezkazgan\n",
      "City number {number} of {len(cities)} complete. | Added {city}\n",
      "https://api.openweathermap.org/data/2.5/weather?units=Imperial&appid=5c6369e1805755dc7b979a0588c3fb73&q=amderma\n",
      "'clouds'\n",
      "https://api.openweathermap.org/data/2.5/weather?units=Imperial&appid=5c6369e1805755dc7b979a0588c3fb73&q=fortuna\n",
      "City number {number} of {len(cities)} complete. | Added {city}\n",
      "https://api.openweathermap.org/data/2.5/weather?units=Imperial&appid=5c6369e1805755dc7b979a0588c3fb73&q=melnikovo\n",
      "City number {number} of {len(cities)} complete. | Added {city}\n",
      "https://api.openweathermap.org/data/2.5/weather?units=Imperial&appid=5c6369e1805755dc7b979a0588c3fb73&q=arraial do cabo\n",
      "City number {number} of {len(cities)} complete. | Added {city}\n",
      "https://api.openweathermap.org/data/2.5/weather?units=Imperial&appid=5c6369e1805755dc7b979a0588c3fb73&q=osmena\n",
      "City number {number} of {len(cities)} complete. | Added {city}\n",
      "https://api.openweathermap.org/data/2.5/weather?units=Imperial&appid=5c6369e1805755dc7b979a0588c3fb73&q=pafos\n",
      "City number {number} of {len(cities)} complete. | Added {city}\n",
      "https://api.openweathermap.org/data/2.5/weather?units=Imperial&appid=5c6369e1805755dc7b979a0588c3fb73&q=bambous virieux\n",
      "City number {number} of {len(cities)} complete. | Added {city}\n",
      "https://api.openweathermap.org/data/2.5/weather?units=Imperial&appid=5c6369e1805755dc7b979a0588c3fb73&q=cidreira\n",
      "City number {number} of {len(cities)} complete. | Added {city}\n",
      "https://api.openweathermap.org/data/2.5/weather?units=Imperial&appid=5c6369e1805755dc7b979a0588c3fb73&q=galesong\n",
      "City number {number} of {len(cities)} complete. | Added {city}\n",
      "https://api.openweathermap.org/data/2.5/weather?units=Imperial&appid=5c6369e1805755dc7b979a0588c3fb73&q=sorland\n",
      "City number {number} of {len(cities)} complete. | Added {city}\n",
      "https://api.openweathermap.org/data/2.5/weather?units=Imperial&appid=5c6369e1805755dc7b979a0588c3fb73&q=kourou\n",
      "City number {number} of {len(cities)} complete. | Added {city}\n",
      "https://api.openweathermap.org/data/2.5/weather?units=Imperial&appid=5c6369e1805755dc7b979a0588c3fb73&q=severo-kurilsk\n",
      "City number {number} of {len(cities)} complete. | Added {city}\n",
      "https://api.openweathermap.org/data/2.5/weather?units=Imperial&appid=5c6369e1805755dc7b979a0588c3fb73&q=belushya guba\n",
      "'clouds'\n",
      "https://api.openweathermap.org/data/2.5/weather?units=Imperial&appid=5c6369e1805755dc7b979a0588c3fb73&q=rikitea\n",
      "City number {number} of {len(cities)} complete. | Added {city}\n",
      "https://api.openweathermap.org/data/2.5/weather?units=Imperial&appid=5c6369e1805755dc7b979a0588c3fb73&q=yellowknife\n",
      "City number {number} of {len(cities)} complete. | Added {city}\n",
      "https://api.openweathermap.org/data/2.5/weather?units=Imperial&appid=5c6369e1805755dc7b979a0588c3fb73&q=hermanus\n",
      "City number {number} of {len(cities)} complete. | Added {city}\n",
      "https://api.openweathermap.org/data/2.5/weather?units=Imperial&appid=5c6369e1805755dc7b979a0588c3fb73&q=imeni poliny osipenko\n",
      "City number {number} of {len(cities)} complete. | Added {city}\n",
      "https://api.openweathermap.org/data/2.5/weather?units=Imperial&appid=5c6369e1805755dc7b979a0588c3fb73&q=babanusah\n",
      "'clouds'\n",
      "https://api.openweathermap.org/data/2.5/weather?units=Imperial&appid=5c6369e1805755dc7b979a0588c3fb73&q=avarua\n"
     ]
    },
    {
     "name": "stdout",
     "output_type": "stream",
     "text": [
      "City number {number} of {len(cities)} complete. | Added {city}\n",
      "https://api.openweathermap.org/data/2.5/weather?units=Imperial&appid=5c6369e1805755dc7b979a0588c3fb73&q=kharitonovo\n",
      "City number {number} of {len(cities)} complete. | Added {city}\n",
      "https://api.openweathermap.org/data/2.5/weather?units=Imperial&appid=5c6369e1805755dc7b979a0588c3fb73&q=taolanaro\n",
      "'clouds'\n",
      "https://api.openweathermap.org/data/2.5/weather?units=Imperial&appid=5c6369e1805755dc7b979a0588c3fb73&q=qaanaaq\n",
      "City number {number} of {len(cities)} complete. | Added {city}\n",
      "https://api.openweathermap.org/data/2.5/weather?units=Imperial&appid=5c6369e1805755dc7b979a0588c3fb73&q=new norfolk\n",
      "City number {number} of {len(cities)} complete. | Added {city}\n",
      "https://api.openweathermap.org/data/2.5/weather?units=Imperial&appid=5c6369e1805755dc7b979a0588c3fb73&q=north battleford\n",
      "City number {number} of {len(cities)} complete. | Added {city}\n",
      "https://api.openweathermap.org/data/2.5/weather?units=Imperial&appid=5c6369e1805755dc7b979a0588c3fb73&q=khatanga\n",
      "City number {number} of {len(cities)} complete. | Added {city}\n",
      "https://api.openweathermap.org/data/2.5/weather?units=Imperial&appid=5c6369e1805755dc7b979a0588c3fb73&q=port macquarie\n",
      "City number {number} of {len(cities)} complete. | Added {city}\n",
      "https://api.openweathermap.org/data/2.5/weather?units=Imperial&appid=5c6369e1805755dc7b979a0588c3fb73&q=hithadhoo\n",
      "City number {number} of {len(cities)} complete. | Added {city}\n",
      "https://api.openweathermap.org/data/2.5/weather?units=Imperial&appid=5c6369e1805755dc7b979a0588c3fb73&q=faanui\n",
      "City number {number} of {len(cities)} complete. | Added {city}\n",
      "https://api.openweathermap.org/data/2.5/weather?units=Imperial&appid=5c6369e1805755dc7b979a0588c3fb73&q=saint-pierre\n",
      "City number {number} of {len(cities)} complete. | Added {city}\n",
      "https://api.openweathermap.org/data/2.5/weather?units=Imperial&appid=5c6369e1805755dc7b979a0588c3fb73&q=umm lajj\n",
      "City number {number} of {len(cities)} complete. | Added {city}\n",
      "https://api.openweathermap.org/data/2.5/weather?units=Imperial&appid=5c6369e1805755dc7b979a0588c3fb73&q=olafsvik\n",
      "City number {number} of {len(cities)} complete. | Added {city}\n",
      "https://api.openweathermap.org/data/2.5/weather?units=Imperial&appid=5c6369e1805755dc7b979a0588c3fb73&q=umzimvubu\n",
      "'clouds'\n",
      "https://api.openweathermap.org/data/2.5/weather?units=Imperial&appid=5c6369e1805755dc7b979a0588c3fb73&q=kangaatsiaq\n",
      "City number {number} of {len(cities)} complete. | Added {city}\n",
      "https://api.openweathermap.org/data/2.5/weather?units=Imperial&appid=5c6369e1805755dc7b979a0588c3fb73&q=saint george\n",
      "City number {number} of {len(cities)} complete. | Added {city}\n",
      "https://api.openweathermap.org/data/2.5/weather?units=Imperial&appid=5c6369e1805755dc7b979a0588c3fb73&q=virginia beach\n",
      "City number {number} of {len(cities)} complete. | Added {city}\n",
      "https://api.openweathermap.org/data/2.5/weather?units=Imperial&appid=5c6369e1805755dc7b979a0588c3fb73&q=boa vista\n",
      "City number {number} of {len(cities)} complete. | Added {city}\n",
      "https://api.openweathermap.org/data/2.5/weather?units=Imperial&appid=5c6369e1805755dc7b979a0588c3fb73&q=kyabe\n",
      "City number {number} of {len(cities)} complete. | Added {city}\n",
      "https://api.openweathermap.org/data/2.5/weather?units=Imperial&appid=5c6369e1805755dc7b979a0588c3fb73&q=sitka\n",
      "City number {number} of {len(cities)} complete. | Added {city}\n",
      "https://api.openweathermap.org/data/2.5/weather?units=Imperial&appid=5c6369e1805755dc7b979a0588c3fb73&q=manono\n",
      "City number {number} of {len(cities)} complete. | Added {city}\n",
      "https://api.openweathermap.org/data/2.5/weather?units=Imperial&appid=5c6369e1805755dc7b979a0588c3fb73&q=nanortalik\n",
      "City number {number} of {len(cities)} complete. | Added {city}\n",
      "https://api.openweathermap.org/data/2.5/weather?units=Imperial&appid=5c6369e1805755dc7b979a0588c3fb73&q=yangambi\n",
      "City number {number} of {len(cities)} complete. | Added {city}\n",
      "https://api.openweathermap.org/data/2.5/weather?units=Imperial&appid=5c6369e1805755dc7b979a0588c3fb73&q=bijar\n",
      "City number {number} of {len(cities)} complete. | Added {city}\n",
      "https://api.openweathermap.org/data/2.5/weather?units=Imperial&appid=5c6369e1805755dc7b979a0588c3fb73&q=barentsburg\n",
      "'clouds'\n",
      "https://api.openweathermap.org/data/2.5/weather?units=Imperial&appid=5c6369e1805755dc7b979a0588c3fb73&q=provideniya\n",
      "City number {number} of {len(cities)} complete. | Added {city}\n",
      "https://api.openweathermap.org/data/2.5/weather?units=Imperial&appid=5c6369e1805755dc7b979a0588c3fb73&q=price\n",
      "City number {number} of {len(cities)} complete. | Added {city}\n",
      "https://api.openweathermap.org/data/2.5/weather?units=Imperial&appid=5c6369e1805755dc7b979a0588c3fb73&q=tuktoyaktuk\n",
      "City number {number} of {len(cities)} complete. | Added {city}\n",
      "https://api.openweathermap.org/data/2.5/weather?units=Imperial&appid=5c6369e1805755dc7b979a0588c3fb73&q=georgetown\n",
      "City number {number} of {len(cities)} complete. | Added {city}\n",
      "https://api.openweathermap.org/data/2.5/weather?units=Imperial&appid=5c6369e1805755dc7b979a0588c3fb73&q=albany\n",
      "City number {number} of {len(cities)} complete. | Added {city}\n",
      "https://api.openweathermap.org/data/2.5/weather?units=Imperial&appid=5c6369e1805755dc7b979a0588c3fb73&q=saint-philippe\n",
      "City number {number} of {len(cities)} complete. | Added {city}\n",
      "https://api.openweathermap.org/data/2.5/weather?units=Imperial&appid=5c6369e1805755dc7b979a0588c3fb73&q=kapaa\n",
      "City number {number} of {len(cities)} complete. | Added {city}\n",
      "https://api.openweathermap.org/data/2.5/weather?units=Imperial&appid=5c6369e1805755dc7b979a0588c3fb73&q=utiroa\n",
      "'clouds'\n",
      "https://api.openweathermap.org/data/2.5/weather?units=Imperial&appid=5c6369e1805755dc7b979a0588c3fb73&q=fort nelson\n",
      "City number {number} of {len(cities)} complete. | Added {city}\n",
      "https://api.openweathermap.org/data/2.5/weather?units=Imperial&appid=5c6369e1805755dc7b979a0588c3fb73&q=loiza\n",
      "City number {number} of {len(cities)} complete. | Added {city}\n",
      "https://api.openweathermap.org/data/2.5/weather?units=Imperial&appid=5c6369e1805755dc7b979a0588c3fb73&q=vardo\n",
      "City number {number} of {len(cities)} complete. | Added {city}\n",
      "https://api.openweathermap.org/data/2.5/weather?units=Imperial&appid=5c6369e1805755dc7b979a0588c3fb73&q=maraba\n",
      "City number {number} of {len(cities)} complete. | Added {city}\n",
      "https://api.openweathermap.org/data/2.5/weather?units=Imperial&appid=5c6369e1805755dc7b979a0588c3fb73&q=carutapera\n",
      "City number {number} of {len(cities)} complete. | Added {city}\n",
      "https://api.openweathermap.org/data/2.5/weather?units=Imperial&appid=5c6369e1805755dc7b979a0588c3fb73&q=abnub\n",
      "City number {number} of {len(cities)} complete. | Added {city}\n",
      "https://api.openweathermap.org/data/2.5/weather?units=Imperial&appid=5c6369e1805755dc7b979a0588c3fb73&q=bethel\n",
      "City number {number} of {len(cities)} complete. | Added {city}\n",
      "https://api.openweathermap.org/data/2.5/weather?units=Imperial&appid=5c6369e1805755dc7b979a0588c3fb73&q=douglas\n",
      "City number {number} of {len(cities)} complete. | Added {city}\n",
      "https://api.openweathermap.org/data/2.5/weather?units=Imperial&appid=5c6369e1805755dc7b979a0588c3fb73&q=attawapiskat\n",
      "'clouds'\n",
      "https://api.openweathermap.org/data/2.5/weather?units=Imperial&appid=5c6369e1805755dc7b979a0588c3fb73&q=hobart\n",
      "City number {number} of {len(cities)} complete. | Added {city}\n",
      "https://api.openweathermap.org/data/2.5/weather?units=Imperial&appid=5c6369e1805755dc7b979a0588c3fb73&q=mys shmidta\n",
      "'clouds'\n",
      "https://api.openweathermap.org/data/2.5/weather?units=Imperial&appid=5c6369e1805755dc7b979a0588c3fb73&q=bani walid\n",
      "City number {number} of {len(cities)} complete. | Added {city}\n",
      "https://api.openweathermap.org/data/2.5/weather?units=Imperial&appid=5c6369e1805755dc7b979a0588c3fb73&q=kodinsk\n",
      "City number {number} of {len(cities)} complete. | Added {city}\n",
      "https://api.openweathermap.org/data/2.5/weather?units=Imperial&appid=5c6369e1805755dc7b979a0588c3fb73&q=butaritari\n",
      "City number {number} of {len(cities)} complete. | Added {city}\n",
      "https://api.openweathermap.org/data/2.5/weather?units=Imperial&appid=5c6369e1805755dc7b979a0588c3fb73&q=aklavik\n",
      "City number {number} of {len(cities)} complete. | Added {city}\n",
      "https://api.openweathermap.org/data/2.5/weather?units=Imperial&appid=5c6369e1805755dc7b979a0588c3fb73&q=portland\n",
      "City number {number} of {len(cities)} complete. | Added {city}\n",
      "https://api.openweathermap.org/data/2.5/weather?units=Imperial&appid=5c6369e1805755dc7b979a0588c3fb73&q=weinan\n"
     ]
    },
    {
     "name": "stdout",
     "output_type": "stream",
     "text": [
      "City number {number} of {len(cities)} complete. | Added {city}\n",
      "https://api.openweathermap.org/data/2.5/weather?units=Imperial&appid=5c6369e1805755dc7b979a0588c3fb73&q=lyubinskiy\n",
      "City number {number} of {len(cities)} complete. | Added {city}\n",
      "https://api.openweathermap.org/data/2.5/weather?units=Imperial&appid=5c6369e1805755dc7b979a0588c3fb73&q=porto novo\n",
      "City number {number} of {len(cities)} complete. | Added {city}\n",
      "https://api.openweathermap.org/data/2.5/weather?units=Imperial&appid=5c6369e1805755dc7b979a0588c3fb73&q=pevek\n",
      "City number {number} of {len(cities)} complete. | Added {city}\n",
      "https://api.openweathermap.org/data/2.5/weather?units=Imperial&appid=5c6369e1805755dc7b979a0588c3fb73&q=alugan\n",
      "City number {number} of {len(cities)} complete. | Added {city}\n",
      "https://api.openweathermap.org/data/2.5/weather?units=Imperial&appid=5c6369e1805755dc7b979a0588c3fb73&q=ambilobe\n",
      "City number {number} of {len(cities)} complete. | Added {city}\n",
      "https://api.openweathermap.org/data/2.5/weather?units=Imperial&appid=5c6369e1805755dc7b979a0588c3fb73&q=sabang\n",
      "City number {number} of {len(cities)} complete. | Added {city}\n",
      "https://api.openweathermap.org/data/2.5/weather?units=Imperial&appid=5c6369e1805755dc7b979a0588c3fb73&q=hualmay\n",
      "City number {number} of {len(cities)} complete. | Added {city}\n",
      "https://api.openweathermap.org/data/2.5/weather?units=Imperial&appid=5c6369e1805755dc7b979a0588c3fb73&q=ouegoa\n",
      "City number {number} of {len(cities)} complete. | Added {city}\n",
      "https://api.openweathermap.org/data/2.5/weather?units=Imperial&appid=5c6369e1805755dc7b979a0588c3fb73&q=clyde river\n",
      "City number {number} of {len(cities)} complete. | Added {city}\n",
      "https://api.openweathermap.org/data/2.5/weather?units=Imperial&appid=5c6369e1805755dc7b979a0588c3fb73&q=sur\n",
      "City number {number} of {len(cities)} complete. | Added {city}\n",
      "https://api.openweathermap.org/data/2.5/weather?units=Imperial&appid=5c6369e1805755dc7b979a0588c3fb73&q=guozhen\n",
      "City number {number} of {len(cities)} complete. | Added {city}\n",
      "https://api.openweathermap.org/data/2.5/weather?units=Imperial&appid=5c6369e1805755dc7b979a0588c3fb73&q=komsomolskiy\n",
      "City number {number} of {len(cities)} complete. | Added {city}\n",
      "https://api.openweathermap.org/data/2.5/weather?units=Imperial&appid=5c6369e1805755dc7b979a0588c3fb73&q=broome\n",
      "City number {number} of {len(cities)} complete. | Added {city}\n",
      "https://api.openweathermap.org/data/2.5/weather?units=Imperial&appid=5c6369e1805755dc7b979a0588c3fb73&q=rio gallegos\n",
      "City number {number} of {len(cities)} complete. | Added {city}\n",
      "https://api.openweathermap.org/data/2.5/weather?units=Imperial&appid=5c6369e1805755dc7b979a0588c3fb73&q=imbituba\n",
      "City number {number} of {len(cities)} complete. | Added {city}\n",
      "https://api.openweathermap.org/data/2.5/weather?units=Imperial&appid=5c6369e1805755dc7b979a0588c3fb73&q=merauke\n",
      "City number {number} of {len(cities)} complete. | Added {city}\n",
      "https://api.openweathermap.org/data/2.5/weather?units=Imperial&appid=5c6369e1805755dc7b979a0588c3fb73&q=louisbourg\n",
      "'clouds'\n",
      "https://api.openweathermap.org/data/2.5/weather?units=Imperial&appid=5c6369e1805755dc7b979a0588c3fb73&q=chuy\n",
      "City number {number} of {len(cities)} complete. | Added {city}\n",
      "https://api.openweathermap.org/data/2.5/weather?units=Imperial&appid=5c6369e1805755dc7b979a0588c3fb73&q=north bend\n",
      "City number {number} of {len(cities)} complete. | Added {city}\n",
      "https://api.openweathermap.org/data/2.5/weather?units=Imperial&appid=5c6369e1805755dc7b979a0588c3fb73&q=port lincoln\n",
      "City number {number} of {len(cities)} complete. | Added {city}\n",
      "https://api.openweathermap.org/data/2.5/weather?units=Imperial&appid=5c6369e1805755dc7b979a0588c3fb73&q=maryville\n",
      "City number {number} of {len(cities)} complete. | Added {city}\n",
      "https://api.openweathermap.org/data/2.5/weather?units=Imperial&appid=5c6369e1805755dc7b979a0588c3fb73&q=biltine\n",
      "City number {number} of {len(cities)} complete. | Added {city}\n",
      "https://api.openweathermap.org/data/2.5/weather?units=Imperial&appid=5c6369e1805755dc7b979a0588c3fb73&q=lavrentiya\n",
      "City number {number} of {len(cities)} complete. | Added {city}\n",
      "https://api.openweathermap.org/data/2.5/weather?units=Imperial&appid=5c6369e1805755dc7b979a0588c3fb73&q=senneterre\n",
      "City number {number} of {len(cities)} complete. | Added {city}\n",
      "https://api.openweathermap.org/data/2.5/weather?units=Imperial&appid=5c6369e1805755dc7b979a0588c3fb73&q=thinadhoo\n",
      "City number {number} of {len(cities)} complete. | Added {city}\n",
      "https://api.openweathermap.org/data/2.5/weather?units=Imperial&appid=5c6369e1805755dc7b979a0588c3fb73&q=cervo\n",
      "City number {number} of {len(cities)} complete. | Added {city}\n",
      "https://api.openweathermap.org/data/2.5/weather?units=Imperial&appid=5c6369e1805755dc7b979a0588c3fb73&q=kawana waters\n",
      "'clouds'\n",
      "https://api.openweathermap.org/data/2.5/weather?units=Imperial&appid=5c6369e1805755dc7b979a0588c3fb73&q=kruisfontein\n",
      "City number {number} of {len(cities)} complete. | Added {city}\n",
      "https://api.openweathermap.org/data/2.5/weather?units=Imperial&appid=5c6369e1805755dc7b979a0588c3fb73&q=voh\n",
      "City number {number} of {len(cities)} complete. | Added {city}\n",
      "https://api.openweathermap.org/data/2.5/weather?units=Imperial&appid=5c6369e1805755dc7b979a0588c3fb73&q=cape town\n",
      "City number {number} of {len(cities)} complete. | Added {city}\n",
      "https://api.openweathermap.org/data/2.5/weather?units=Imperial&appid=5c6369e1805755dc7b979a0588c3fb73&q=upernavik\n",
      "City number {number} of {len(cities)} complete. | Added {city}\n",
      "https://api.openweathermap.org/data/2.5/weather?units=Imperial&appid=5c6369e1805755dc7b979a0588c3fb73&q=torbay\n",
      "City number {number} of {len(cities)} complete. | Added {city}\n",
      "https://api.openweathermap.org/data/2.5/weather?units=Imperial&appid=5c6369e1805755dc7b979a0588c3fb73&q=juifang\n",
      "'clouds'\n",
      "https://api.openweathermap.org/data/2.5/weather?units=Imperial&appid=5c6369e1805755dc7b979a0588c3fb73&q=los llanos de aridane\n",
      "City number {number} of {len(cities)} complete. | Added {city}\n",
      "https://api.openweathermap.org/data/2.5/weather?units=Imperial&appid=5c6369e1805755dc7b979a0588c3fb73&q=kinkala\n",
      "City number {number} of {len(cities)} complete. | Added {city}\n",
      "https://api.openweathermap.org/data/2.5/weather?units=Imperial&appid=5c6369e1805755dc7b979a0588c3fb73&q=ipilan\n",
      "City number {number} of {len(cities)} complete. | Added {city}\n",
      "https://api.openweathermap.org/data/2.5/weather?units=Imperial&appid=5c6369e1805755dc7b979a0588c3fb73&q=tsihombe\n",
      "'clouds'\n",
      "https://api.openweathermap.org/data/2.5/weather?units=Imperial&appid=5c6369e1805755dc7b979a0588c3fb73&q=el faiyum\n",
      "'clouds'\n",
      "https://api.openweathermap.org/data/2.5/weather?units=Imperial&appid=5c6369e1805755dc7b979a0588c3fb73&q=novyy urengoy\n",
      "City number {number} of {len(cities)} complete. | Added {city}\n",
      "https://api.openweathermap.org/data/2.5/weather?units=Imperial&appid=5c6369e1805755dc7b979a0588c3fb73&q=sambava\n",
      "City number {number} of {len(cities)} complete. | Added {city}\n",
      "https://api.openweathermap.org/data/2.5/weather?units=Imperial&appid=5c6369e1805755dc7b979a0588c3fb73&q=mahebourg\n",
      "City number {number} of {len(cities)} complete. | Added {city}\n",
      "https://api.openweathermap.org/data/2.5/weather?units=Imperial&appid=5c6369e1805755dc7b979a0588c3fb73&q=barrow\n",
      "City number {number} of {len(cities)} complete. | Added {city}\n",
      "https://api.openweathermap.org/data/2.5/weather?units=Imperial&appid=5c6369e1805755dc7b979a0588c3fb73&q=nemuro\n",
      "City number {number} of {len(cities)} complete. | Added {city}\n",
      "https://api.openweathermap.org/data/2.5/weather?units=Imperial&appid=5c6369e1805755dc7b979a0588c3fb73&q=tuatapere\n",
      "City number {number} of {len(cities)} complete. | Added {city}\n",
      "https://api.openweathermap.org/data/2.5/weather?units=Imperial&appid=5c6369e1805755dc7b979a0588c3fb73&q=deputatskiy\n",
      "City number {number} of {len(cities)} complete. | Added {city}\n",
      "https://api.openweathermap.org/data/2.5/weather?units=Imperial&appid=5c6369e1805755dc7b979a0588c3fb73&q=talakan\n",
      "City number {number} of {len(cities)} complete. | Added {city}\n",
      "https://api.openweathermap.org/data/2.5/weather?units=Imperial&appid=5c6369e1805755dc7b979a0588c3fb73&q=yeppoon\n",
      "City number {number} of {len(cities)} complete. | Added {city}\n",
      "https://api.openweathermap.org/data/2.5/weather?units=Imperial&appid=5c6369e1805755dc7b979a0588c3fb73&q=faya\n"
     ]
    },
    {
     "name": "stdout",
     "output_type": "stream",
     "text": [
      "City number {number} of {len(cities)} complete. | Added {city}\n",
      "https://api.openweathermap.org/data/2.5/weather?units=Imperial&appid=5c6369e1805755dc7b979a0588c3fb73&q=bud\n",
      "City number {number} of {len(cities)} complete. | Added {city}\n",
      "https://api.openweathermap.org/data/2.5/weather?units=Imperial&appid=5c6369e1805755dc7b979a0588c3fb73&q=kalamazoo\n",
      "City number {number} of {len(cities)} complete. | Added {city}\n",
      "https://api.openweathermap.org/data/2.5/weather?units=Imperial&appid=5c6369e1805755dc7b979a0588c3fb73&q=pimenta bueno\n",
      "City number {number} of {len(cities)} complete. | Added {city}\n",
      "https://api.openweathermap.org/data/2.5/weather?units=Imperial&appid=5c6369e1805755dc7b979a0588c3fb73&q=jamestown\n",
      "City number {number} of {len(cities)} complete. | Added {city}\n",
      "https://api.openweathermap.org/data/2.5/weather?units=Imperial&appid=5c6369e1805755dc7b979a0588c3fb73&q=cherskiy\n",
      "City number {number} of {len(cities)} complete. | Added {city}\n",
      "https://api.openweathermap.org/data/2.5/weather?units=Imperial&appid=5c6369e1805755dc7b979a0588c3fb73&q=haines junction\n",
      "City number {number} of {len(cities)} complete. | Added {city}\n",
      "https://api.openweathermap.org/data/2.5/weather?units=Imperial&appid=5c6369e1805755dc7b979a0588c3fb73&q=bredy\n",
      "City number {number} of {len(cities)} complete. | Added {city}\n",
      "https://api.openweathermap.org/data/2.5/weather?units=Imperial&appid=5c6369e1805755dc7b979a0588c3fb73&q=bengkulu\n",
      "City number {number} of {len(cities)} complete. | Added {city}\n",
      "https://api.openweathermap.org/data/2.5/weather?units=Imperial&appid=5c6369e1805755dc7b979a0588c3fb73&q=honiara\n",
      "City number {number} of {len(cities)} complete. | Added {city}\n",
      "https://api.openweathermap.org/data/2.5/weather?units=Imperial&appid=5c6369e1805755dc7b979a0588c3fb73&q=arman\n",
      "City number {number} of {len(cities)} complete. | Added {city}\n",
      "https://api.openweathermap.org/data/2.5/weather?units=Imperial&appid=5c6369e1805755dc7b979a0588c3fb73&q=ilulissat\n",
      "City number {number} of {len(cities)} complete. | Added {city}\n",
      "https://api.openweathermap.org/data/2.5/weather?units=Imperial&appid=5c6369e1805755dc7b979a0588c3fb73&q=praia da vitoria\n",
      "City number {number} of {len(cities)} complete. | Added {city}\n",
      "https://api.openweathermap.org/data/2.5/weather?units=Imperial&appid=5c6369e1805755dc7b979a0588c3fb73&q=bima\n",
      "City number {number} of {len(cities)} complete. | Added {city}\n",
      "https://api.openweathermap.org/data/2.5/weather?units=Imperial&appid=5c6369e1805755dc7b979a0588c3fb73&q=vilyuysk\n",
      "City number {number} of {len(cities)} complete. | Added {city}\n",
      "https://api.openweathermap.org/data/2.5/weather?units=Imperial&appid=5c6369e1805755dc7b979a0588c3fb73&q=manturovo\n",
      "City number {number} of {len(cities)} complete. | Added {city}\n",
      "https://api.openweathermap.org/data/2.5/weather?units=Imperial&appid=5c6369e1805755dc7b979a0588c3fb73&q=afmadu\n",
      "'clouds'\n",
      "https://api.openweathermap.org/data/2.5/weather?units=Imperial&appid=5c6369e1805755dc7b979a0588c3fb73&q=wencheng\n",
      "City number {number} of {len(cities)} complete. | Added {city}\n",
      "https://api.openweathermap.org/data/2.5/weather?units=Imperial&appid=5c6369e1805755dc7b979a0588c3fb73&q=ituni\n",
      "'clouds'\n",
      "https://api.openweathermap.org/data/2.5/weather?units=Imperial&appid=5c6369e1805755dc7b979a0588c3fb73&q=dikson\n",
      "City number {number} of {len(cities)} complete. | Added {city}\n",
      "https://api.openweathermap.org/data/2.5/weather?units=Imperial&appid=5c6369e1805755dc7b979a0588c3fb73&q=sioux lookout\n",
      "City number {number} of {len(cities)} complete. | Added {city}\n",
      "https://api.openweathermap.org/data/2.5/weather?units=Imperial&appid=5c6369e1805755dc7b979a0588c3fb73&q=tomatlan\n",
      "City number {number} of {len(cities)} complete. | Added {city}\n",
      "https://api.openweathermap.org/data/2.5/weather?units=Imperial&appid=5c6369e1805755dc7b979a0588c3fb73&q=rocky mount\n",
      "City number {number} of {len(cities)} complete. | Added {city}\n",
      "https://api.openweathermap.org/data/2.5/weather?units=Imperial&appid=5c6369e1805755dc7b979a0588c3fb73&q=najran\n",
      "City number {number} of {len(cities)} complete. | Added {city}\n",
      "https://api.openweathermap.org/data/2.5/weather?units=Imperial&appid=5c6369e1805755dc7b979a0588c3fb73&q=almonte\n",
      "City number {number} of {len(cities)} complete. | Added {city}\n",
      "https://api.openweathermap.org/data/2.5/weather?units=Imperial&appid=5c6369e1805755dc7b979a0588c3fb73&q=port blair\n",
      "City number {number} of {len(cities)} complete. | Added {city}\n",
      "https://api.openweathermap.org/data/2.5/weather?units=Imperial&appid=5c6369e1805755dc7b979a0588c3fb73&q=mar del plata\n",
      "City number {number} of {len(cities)} complete. | Added {city}\n",
      "https://api.openweathermap.org/data/2.5/weather?units=Imperial&appid=5c6369e1805755dc7b979a0588c3fb73&q=mitu\n",
      "City number {number} of {len(cities)} complete. | Added {city}\n",
      "https://api.openweathermap.org/data/2.5/weather?units=Imperial&appid=5c6369e1805755dc7b979a0588c3fb73&q=rauma\n",
      "City number {number} of {len(cities)} complete. | Added {city}\n",
      "https://api.openweathermap.org/data/2.5/weather?units=Imperial&appid=5c6369e1805755dc7b979a0588c3fb73&q=gazojak\n",
      "City number {number} of {len(cities)} complete. | Added {city}\n",
      "https://api.openweathermap.org/data/2.5/weather?units=Imperial&appid=5c6369e1805755dc7b979a0588c3fb73&q=zaraza\n",
      "City number {number} of {len(cities)} complete. | Added {city}\n",
      "https://api.openweathermap.org/data/2.5/weather?units=Imperial&appid=5c6369e1805755dc7b979a0588c3fb73&q=naze\n",
      "City number {number} of {len(cities)} complete. | Added {city}\n",
      "https://api.openweathermap.org/data/2.5/weather?units=Imperial&appid=5c6369e1805755dc7b979a0588c3fb73&q=husavik\n",
      "City number {number} of {len(cities)} complete. | Added {city}\n",
      "https://api.openweathermap.org/data/2.5/weather?units=Imperial&appid=5c6369e1805755dc7b979a0588c3fb73&q=ambon\n",
      "City number {number} of {len(cities)} complete. | Added {city}\n",
      "https://api.openweathermap.org/data/2.5/weather?units=Imperial&appid=5c6369e1805755dc7b979a0588c3fb73&q=vila\n",
      "City number {number} of {len(cities)} complete. | Added {city}\n",
      "https://api.openweathermap.org/data/2.5/weather?units=Imperial&appid=5c6369e1805755dc7b979a0588c3fb73&q=ponta do sol\n",
      "City number {number} of {len(cities)} complete. | Added {city}\n",
      "https://api.openweathermap.org/data/2.5/weather?units=Imperial&appid=5c6369e1805755dc7b979a0588c3fb73&q=codrington\n",
      "City number {number} of {len(cities)} complete. | Added {city}\n",
      "https://api.openweathermap.org/data/2.5/weather?units=Imperial&appid=5c6369e1805755dc7b979a0588c3fb73&q=grand river south east\n",
      "'clouds'\n",
      "https://api.openweathermap.org/data/2.5/weather?units=Imperial&appid=5c6369e1805755dc7b979a0588c3fb73&q=sabha\n",
      "City number {number} of {len(cities)} complete. | Added {city}\n",
      "https://api.openweathermap.org/data/2.5/weather?units=Imperial&appid=5c6369e1805755dc7b979a0588c3fb73&q=bilma\n",
      "City number {number} of {len(cities)} complete. | Added {city}\n",
      "https://api.openweathermap.org/data/2.5/weather?units=Imperial&appid=5c6369e1805755dc7b979a0588c3fb73&q=ushtobe\n",
      "City number {number} of {len(cities)} complete. | Added {city}\n",
      "https://api.openweathermap.org/data/2.5/weather?units=Imperial&appid=5c6369e1805755dc7b979a0588c3fb73&q=hobyo\n",
      "City number {number} of {len(cities)} complete. | Added {city}\n",
      "https://api.openweathermap.org/data/2.5/weather?units=Imperial&appid=5c6369e1805755dc7b979a0588c3fb73&q=arecibo\n"
     ]
    }
   ],
   "source": [
    "# Starting URL for Weather Map API Call\n",
    "url =f\"https://api.openweathermap.org/data/2.5/weather?units=Imperial&appid={weather_api_key}&q=\"\n",
    "\n",
    "# List of city data\n",
    "city_data = []\n",
    "\n",
    "# Print to logger\n",
    "print(\"Beginning Data Retrieval     \")\n",
    "print(\"-----------------------------\")\n",
    "\n",
    "# Create counters\n",
    "record_count = 1\n",
    "set_count = 1\n",
    "columns = [\"City\", \"Cloudiness\", \"Country\", \"Date\", \"Humidity\", \"Lat\", \"Lng\", \"Max Temp (F)\", \"Wind Speed\"]\n",
    "city_data = pd.DataFrame(columns = columns)\n",
    "# Set temperature units\n",
    "temp_unit = \"imperial\"\n",
    "\n",
    "# Define url\n",
    "#url =\"https://community-open-weather-map.p.rapidapi.com/find\"\n",
    "\n",
    "# summary lists\n",
    "city2 = []\n",
    "cloudinesses = []\n",
    "dates = []\n",
    "humidities = []\n",
    "lat = []\n",
    "lng = []\n",
    "max_temp = []\n",
    "wind_speed = []\n",
    "countries = []\n",
    "\n",
    "# Set initial count\n",
    "count_one = 0\n",
    "set_one = 1\n",
    "\n",
    "# Loop for creating summary\n",
    "for city in cities:\n",
    "    print (url + city)\n",
    "    #end point url for each city\n",
    "    try:\n",
    "        response = requests.get(url + city).json()\n",
    "        cloudinesses.append(response['clouds']['all'])\n",
    "        countries.append(response['sys']['country'])\n",
    "        dates.append(response['dt'])\n",
    "        humidities.append(response['main']['humidity'])\n",
    "        lat.append(response['coord']['lat'])\n",
    "        lng.append(response['coord']['lon'])\n",
    "        max_temp.append(response['main']['temp_max'])\n",
    "        wind_speed.append(response['wind']['speed'])\n",
    "        if count_one > 48:\n",
    "            count_one = 1\n",
    "            set_one += 1\n",
    "            city2.append(city)\n",
    "        else:\n",
    "            count_one += 1\n",
    "            city2.append(city)\n",
    "        print('City number {number} of {len(cities)} complete. | Added {city}')\n",
    "         \n",
    "    except Exception as e:\n",
    "        print (e)\n",
    "\n",
    "\n",
    "  \n",
    "print('------------------------------')\n",
    "print('Retrieval Complete')\n",
    "print('------------------------------')\n",
    "  \n"
   ]
  },
  {
   "cell_type": "markdown",
   "metadata": {},
   "source": [
    "### Convert Raw Data to DataFrame\n",
    "* Export the city data into a .csv.\n",
    "* Display the DataFrame"
   ]
  },
  {
   "cell_type": "code",
   "execution_count": null,
   "metadata": {},
   "outputs": [],
   "source": []
  },
  {
   "cell_type": "code",
   "execution_count": null,
   "metadata": {},
   "outputs": [],
   "source": []
  },
  {
   "cell_type": "markdown",
   "metadata": {},
   "source": [
    "## Inspect the data and remove the cities where the humidity > 100%.\n",
    "----\n",
    "Skip this step if there are no cities that have humidity > 100%. "
   ]
  },
  {
   "cell_type": "code",
   "execution_count": null,
   "metadata": {},
   "outputs": [],
   "source": []
  },
  {
   "cell_type": "code",
   "execution_count": null,
   "metadata": {},
   "outputs": [],
   "source": [
    "#  Get the indices of cities that have humidity over 100%.\n"
   ]
  },
  {
   "cell_type": "code",
   "execution_count": null,
   "metadata": {},
   "outputs": [],
   "source": [
    "# Make a new DataFrame equal to the city data to drop all humidity outliers by index.\n",
    "# Passing \"inplace=False\" will make a copy of the city_data DataFrame, which we call \"clean_city_data\".\n"
   ]
  },
  {
   "cell_type": "code",
   "execution_count": null,
   "metadata": {},
   "outputs": [],
   "source": [
    "\n"
   ]
  },
  {
   "cell_type": "markdown",
   "metadata": {},
   "source": [
    "## Plotting the Data\n",
    "* Use proper labeling of the plots using plot titles (including date of analysis) and axes labels.\n",
    "* Save the plotted figures as .pngs."
   ]
  },
  {
   "cell_type": "markdown",
   "metadata": {},
   "source": [
    "## Latitude vs. Temperature Plot"
   ]
  },
  {
   "cell_type": "code",
   "execution_count": null,
   "metadata": {
    "scrolled": true
   },
   "outputs": [],
   "source": []
  },
  {
   "cell_type": "markdown",
   "metadata": {},
   "source": [
    "## Latitude vs. Humidity Plot"
   ]
  },
  {
   "cell_type": "code",
   "execution_count": null,
   "metadata": {},
   "outputs": [],
   "source": []
  },
  {
   "cell_type": "markdown",
   "metadata": {},
   "source": [
    "## Latitude vs. Cloudiness Plot"
   ]
  },
  {
   "cell_type": "code",
   "execution_count": null,
   "metadata": {},
   "outputs": [],
   "source": []
  },
  {
   "cell_type": "markdown",
   "metadata": {},
   "source": [
    "## Latitude vs. Wind Speed Plot"
   ]
  },
  {
   "cell_type": "code",
   "execution_count": null,
   "metadata": {},
   "outputs": [],
   "source": []
  },
  {
   "cell_type": "markdown",
   "metadata": {},
   "source": [
    "## Linear Regression"
   ]
  },
  {
   "cell_type": "code",
   "execution_count": null,
   "metadata": {},
   "outputs": [],
   "source": []
  },
  {
   "cell_type": "markdown",
   "metadata": {},
   "source": [
    "####  Northern Hemisphere - Max Temp vs. Latitude Linear Regression"
   ]
  },
  {
   "cell_type": "code",
   "execution_count": null,
   "metadata": {},
   "outputs": [],
   "source": []
  },
  {
   "cell_type": "markdown",
   "metadata": {},
   "source": [
    "####  Southern Hemisphere - Max Temp vs. Latitude Linear Regression"
   ]
  },
  {
   "cell_type": "code",
   "execution_count": null,
   "metadata": {},
   "outputs": [],
   "source": []
  },
  {
   "cell_type": "markdown",
   "metadata": {},
   "source": [
    "####  Northern Hemisphere - Humidity (%) vs. Latitude Linear Regression"
   ]
  },
  {
   "cell_type": "code",
   "execution_count": null,
   "metadata": {},
   "outputs": [],
   "source": []
  },
  {
   "cell_type": "markdown",
   "metadata": {},
   "source": [
    "####  Southern Hemisphere - Humidity (%) vs. Latitude Linear Regression"
   ]
  },
  {
   "cell_type": "code",
   "execution_count": null,
   "metadata": {},
   "outputs": [],
   "source": []
  },
  {
   "cell_type": "markdown",
   "metadata": {},
   "source": [
    "####  Northern Hemisphere - Cloudiness (%) vs. Latitude Linear Regression"
   ]
  },
  {
   "cell_type": "code",
   "execution_count": null,
   "metadata": {},
   "outputs": [],
   "source": []
  },
  {
   "cell_type": "markdown",
   "metadata": {},
   "source": [
    "####  Southern Hemisphere - Cloudiness (%) vs. Latitude Linear Regression"
   ]
  },
  {
   "cell_type": "code",
   "execution_count": null,
   "metadata": {},
   "outputs": [],
   "source": []
  },
  {
   "cell_type": "markdown",
   "metadata": {},
   "source": [
    "####  Northern Hemisphere - Wind Speed (mph) vs. Latitude Linear Regression"
   ]
  },
  {
   "cell_type": "code",
   "execution_count": null,
   "metadata": {},
   "outputs": [],
   "source": []
  },
  {
   "cell_type": "markdown",
   "metadata": {},
   "source": [
    "####  Southern Hemisphere - Wind Speed (mph) vs. Latitude Linear Regression"
   ]
  },
  {
   "cell_type": "code",
   "execution_count": null,
   "metadata": {},
   "outputs": [],
   "source": []
  },
  {
   "cell_type": "code",
   "execution_count": null,
   "metadata": {},
   "outputs": [],
   "source": []
  }
 ],
 "metadata": {
  "anaconda-cloud": {},
  "kernel_info": {
   "name": "python3"
  },
  "kernelspec": {
   "display_name": "Python 3",
   "language": "python",
   "name": "python3"
  },
  "language_info": {
   "codemirror_mode": {
    "name": "ipython",
    "version": 3
   },
   "file_extension": ".py",
   "mimetype": "text/x-python",
   "name": "python",
   "nbconvert_exporter": "python",
   "pygments_lexer": "ipython3",
   "version": "3.8.5"
  },
  "latex_envs": {
   "LaTeX_envs_menu_present": true,
   "autoclose": false,
   "autocomplete": true,
   "bibliofile": "biblio.bib",
   "cite_by": "apalike",
   "current_citInitial": 1,
   "eqLabelWithNumbers": true,
   "eqNumInitial": 1,
   "hotkeys": {
    "equation": "Ctrl-E",
    "itemize": "Ctrl-I"
   },
   "labels_anchors": false,
   "latex_user_defs": false,
   "report_style_numbering": false,
   "user_envs_cfg": false
  },
  "nteract": {
   "version": "0.12.3"
  }
 },
 "nbformat": 4,
 "nbformat_minor": 2
}
